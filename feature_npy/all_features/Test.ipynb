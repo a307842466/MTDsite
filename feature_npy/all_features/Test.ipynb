{
 "cells": [
  {
   "cell_type": "markdown",
   "metadata": {},
   "source": [
    "# import numpy as np\n",
    "src = r'/data0/sunzhe/dna-binding/4all/pssm+hhm/c_1abrB.npy'\n",
    "\n",
    "a=np.load(src)\n",
    "print(len(a[0]))\n"
   ]
  },
  {
   "cell_type": "code",
   "execution_count": 9,
   "metadata": {
    "collapsed": false
   },
   "outputs": [
    {
     "name": "stdout",
     "output_type": "stream",
     "text": [
      "(267, 54)\n"
     ]
    }
   ],
   "source": [
    "import numpy as np\n",
    "src = r'/data0/sunzhe/dna-binding/4all/f_all/c_1abrB.npy'\n",
    "\n",
    "a=np.load(src) \n",
    "print(a.shape)"
   ]
  },
  {
   "cell_type": "code",
   "execution_count": null,
   "metadata": {
    "collapsed": true
   },
   "outputs": [],
   "source": []
  }
 ],
 "metadata": {
  "anaconda-cloud": {},
  "kernelspec": {
   "display_name": "Python [conda env:python25]",
   "language": "python",
   "name": "conda-env-python25-py"
  },
  "language_info": {
   "codemirror_mode": {
    "name": "ipython",
    "version": 3
   },
   "file_extension": ".py",
   "mimetype": "text/x-python",
   "name": "python",
   "nbconvert_exporter": "python",
   "pygments_lexer": "ipython3",
   "version": "3.5.6"
  }
 },
 "nbformat": 4,
 "nbformat_minor": 1
}
