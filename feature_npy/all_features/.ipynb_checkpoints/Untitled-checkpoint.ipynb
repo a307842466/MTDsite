{
 "cells": [
  {
   "cell_type": "code",
   "execution_count": 32,
   "metadata": {
    "collapsed": false
   },
   "outputs": [],
   "source": [
    "import numpy as np\n",
    "\n",
    "src = r'/data0/sunzhe/dna-binding/4all/'\n",
    "\n",
    "idl = [i.replace('\\n','') for i in open(r'/data0/sunzhe/dna-binding/4all/test_all_id').readlines()]\n",
    "\n",
    "\n",
    "\n",
    "for i in idl:\n",
    "    path = src+'f_all/'+i+'.npy'\n",
    "    a=np.load(path)\n",
    "    spd33=[]\n",
    "    hhm=[]\n",
    "    pssm=[]\n",
    "    pssm_hhm=[]\n",
    "    pssm_spd33=[]\n",
    "    spd33_hhm=[]\n",
    "    \n",
    "    for j in range(0,len(a)):\n",
    "        temp_s=[]\n",
    "        temp_h=[]\n",
    "        temp_p=[]\n",
    "        for x in range(0,14):\n",
    "            temp_s.append(float(a[j][x]))\n",
    "        for x in range(14,34):\n",
    "            temp_h.append(float(a[j][x]))\n",
    "        for x in range(34,54):\n",
    "            temp_p.append(float(a[j][x]))\n",
    "        spd33.append(temp_s)\n",
    "        hhm.append(temp_h)\n",
    "        pssm.append(temp_p)\n",
    "        pssm_hhm.append(temp_p+temp_h)\n",
    "        pssm_spd33.appe\n",
    "        \n",
    "        \n",
    "        d(temp_s+temp_h)\n",
    "        \n",
    "    spd33=np.array(spd33)\n",
    "    hhm=np.array(hhm)\n",
    "    pssm=np.array(pssm)\n",
    "    \n",
    "    pssm_hhm=np.array(pssm_hhm)\n",
    "    pssm_spd33=np.array(pssm_spd33)\n",
    "    spd33_hhm=np.array(spd33_hhm)\n",
    "    \n",
    "    np.save(src+'pssm+hhm/'+i,pssm_hhm)\n",
    "    np.save(src+'pssm+spd33/'+i,pssm_spd33)\n",
    "    np.save(src+'hhm+spd33/'+i,spd33_hhm)\n",
    "#     np.save(src+'spd33/'+i,spd33)\n",
    "#     np.save(src+'hhm/'+i,hhm)\n",
    "#     np.save(src+'pssm/'+i,pssm)\n"
   ]
  }
 ],
 "metadata": {
  "kernelspec": {
   "display_name": "Python [conda env:python25]",
   "language": "python",
   "name": "conda-env-python25-py"
  },
  "language_info": {
   "codemirror_mode": {
    "name": "ipython",
    "version": 3
   },
   "file_extension": ".py",
   "mimetype": "text/x-python",
   "name": "python",
   "nbconvert_exporter": "python",
   "pygments_lexer": "ipython3",
   "version": "3.5.6"
  }
 },
 "nbformat": 4,
 "nbformat_minor": 1
}
